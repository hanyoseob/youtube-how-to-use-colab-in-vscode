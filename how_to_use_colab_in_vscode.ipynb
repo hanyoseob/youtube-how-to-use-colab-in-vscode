{
  "nbformat": 4,
  "nbformat_minor": 0,
  "metadata": {
    "colab": {
      "provenance": [],
      "collapsed_sections": []
    },
    "kernelspec": {
      "name": "python3",
      "display_name": "Python 3"
    },
    "language_info": {
      "name": "python"
    },
    "accelerator": "GPU"
  },
  "cells": [
    {
      "cell_type": "markdown",
      "source": [
        "# Colab 을 vscode 에서 연결하여 사용하는 방법 (macOS 기준)\n",
        "\n",
        "---\n",
        "\n",
        "## 1. __Colab__ 에서 수행할 내용\n",
        "1. Colab 을 열어 새 ipynb 만들기\n",
        "\n",
        "2. 새 ipynb 에서 GPU 사용 설정하기 \\\\\n",
        "  상단의 메뉴표시줄 에서 아래의 메뉴를 선택하여 GPU 설정을 완료한다. \\\\\n",
        "  > 수정 > 노트 설정 > 하드웨어 가속기 > ___GPU___\n",
        "\n",
        "3. 아래의 코드를 순차적으로 실행하기 \\\\\n",
        "  1. python 에 ___colab-ssh___ package 설치하기 \\\\\n",
        "  2. google drive 를 해당 ipynb 에 연동하기 \\\\\n",
        "  3. password 를 설정한 후, colab ssh 실행하기 \\\\\n",
        "\n",
        "4. 마지막 코드가 실행되고 난 후, 생성된 ___VSCode Remote SSH___ code 를 복사하기\n",
        "\n",
        "---\n",
        "\n",
        "## 2. __내 컴퓨터__ 에서 수행할 내용\n",
        "1. 내 컴퓨터에 ___cloudflare___ package 를 설치하기 \\\\\n",
        "  만약 ___brew___ package가 설치되어 있지 않다면, 아래의 command 를 실행하여 ___brew___ 를 먼저 설치한다. \\\\\n",
        "  (참고: https://brew.sh/index_ko)\n",
        "  > $ /bin/bash -c \"$(curl -fsSL https://raw.githubusercontent.com/Homebrew/install/HEAD/install.sh)\"\n",
        "\n",
        "  Terminal 에서 아래의 command 를 실행하여 ___cloudflare___ 를 설치한다.\n",
        "  > $ brew install cloudflare/cloudflare/cloudflared\n",
        "\n",
        "2. vscode 를 열어, 필요한 ___extensions___ 설치하기 \\\\\n",
        "  1. 좌측면에 아이콘 중 extensions 아이콘 (정사각형 4개가 있는 아이콘) 을 눌러 (또는 shift + command + X 키를 눌러), extensions 창으로 이동하기 \\\\\n",
        "  2. 검색창에 ___Remote - SSH___ 를 입력하여 검색하고 설치하기 \\\\\n",
        "\n",
        "3. 상단 메뉴표시줄 에서 아래의 메뉴를 선택하여 (또는 shift + command + P 키를 눌러) pallete 창 열기\n",
        "  > View > Command Pallete... \\\\\n",
        "\n",
        "4. 상단에 표시된 pallete command 창에 아래의 command 를 실행하여 configuration file 열기\n",
        "  > \\> Remote-SSH: Open SSH Configuration File... \\\\\n",
        "  > /User/[USER NAME]/.ssh/config\n",
        "\n",
        "5. 새로 열린 config 창에 아래의 내용 입력하기 \\\\\n",
        "```\n",
        "# Read more about SSH config files: https://linux.die.net/man/5/ssh_config\n",
        "Host *.trycloudflare.com\n",
        "    HostName %h\n",
        "    User root\n",
        "    Port 22\n",
        "    ProxyCommand exec cloudflared access ssh --hostname %h\n",
        "```\n",
        "\n",
        "6. Vscode 를 종료한 후, 다시 시작하기 \\\\\n",
        "\n",
        "7. Colab 에서 생성된 ___VSCode Remote SSH___ code 를 복사하기 \\\\\n",
        "\n",
        "8. 상단에 표시된 pallete command 창에 아래의 command 를 실행하여 Colab SSH 에 연결하기\n",
        "  > \\> Remote-SSH: Connect to Host... \\\\\n",
        "  > [복사한 ___VSCode Remote SSH___ code 붙여넣기]\n",
        "\n",
        "9. 새로운 vscode 창이 실행되면서 ssh 연결이 수행 \\\\\n",
        "\n",
        "10. password 를 입력하라는 popup 이 뜨면, colab 에서 설정한 password 입력\n"
      ],
      "metadata": {
        "id": "5bftK2zpyvq-"
      }
    },
    {
      "cell_type": "markdown",
      "source": [
        "## 1.3.1. python 에 ___colab-ssh___ package 설치하기"
      ],
      "metadata": {
        "id": "aILpZlWA2J4k"
      }
    },
    {
      "cell_type": "code",
      "execution_count": 1,
      "metadata": {
        "colab": {
          "base_uri": "https://localhost:8080/"
        },
        "id": "xT8OIXiBa_Qn",
        "outputId": "2af63275-5af2-47c3-8d65-aa5d40515ab4"
      },
      "outputs": [
        {
          "output_type": "stream",
          "name": "stdout",
          "text": [
            "Looking in indexes: https://pypi.org/simple, https://us-python.pkg.dev/colab-wheels/public/simple/\n",
            "Collecting colab-ssh\n",
            "  Downloading colab_ssh-0.3.27-py3-none-any.whl (26 kB)\n",
            "Installing collected packages: colab-ssh\n",
            "Successfully installed colab-ssh-0.3.27\n"
          ]
        }
      ],
      "source": [
        "!pip install colab-ssh --upgrade"
      ]
    },
    {
      "cell_type": "markdown",
      "source": [
        "## 1.3.2. google drive 를 해당 ipynb 에 연동하기"
      ],
      "metadata": {
        "id": "I2PNPEIQ2aoz"
      }
    },
    {
      "cell_type": "code",
      "source": [
        "from google.colab import drive\n",
        "# mount google drive \n",
        "drive.mount('/content/drive')"
      ],
      "metadata": {
        "id": "bnpMqrrCbkVX",
        "colab": {
          "base_uri": "https://localhost:8080/"
        },
        "outputId": "bb4d474f-3775-489a-cd4e-b39aa89e8b23"
      },
      "execution_count": 2,
      "outputs": [
        {
          "output_type": "stream",
          "name": "stdout",
          "text": [
            "Mounted at /content/drive\n"
          ]
        }
      ]
    },
    {
      "cell_type": "markdown",
      "source": [
        "## 1.3.3. password 를 설정한 후, colab ssh 실행하기"
      ],
      "metadata": {
        "id": "7jfP_IQj2lYA"
      }
    },
    {
      "cell_type": "code",
      "source": [
        "from colab_ssh import launch_ssh_cloudflared, init_git_cloudflared \n",
        "\n",
        "launch_ssh_cloudflared(password=\"1234\")"
      ],
      "metadata": {
        "colab": {
          "base_uri": "https://localhost:8080/",
          "height": 220
        },
        "id": "OMOiHbiRbaNz",
        "outputId": "5dee52b8-001f-4cff-9eec-46ef2ea11f29"
      },
      "execution_count": 3,
      "outputs": [
        {
          "output_type": "display_data",
          "data": {
            "text/plain": [
              "<IPython.core.display.HTML object>"
            ],
            "text/html": [
              "<style>\n",
              "*{\n",
              "\toutline:none;\n",
              "}\n",
              "code{\n",
              "\tdisplay:inline-block;\n",
              "\tpadding:5px 10px;\n",
              "\tbackground: #444;\n",
              "\tborder-radius: 4px;\n",
              "\twhite-space: pre-wrap;\n",
              "\tposition:relative;\n",
              "\tcolor:white;\n",
              "}\n",
              ".copy-code-button{\n",
              "\tfloat:right;\n",
              "\tbackground:#333;\n",
              "\tcolor:white;\n",
              "\tborder: none;\n",
              "\tmargin: 0 0 0 10px;\n",
              "\tcursor: pointer;\n",
              "}\n",
              "p, li{\n",
              "\tmax-width:700px;\n",
              "}\n",
              ".choices{\n",
              "\tdisplay:flex;\n",
              "\tflex: 1 0 auto;\n",
              "}\n",
              ".choice-section{\n",
              "\tborder:solid 1px #555;\n",
              "\tborder-radius: 4px;\n",
              "\tmin-width:300px;\n",
              "\tmargin: 10px 15px 0 0;\n",
              "\tpadding: 0 15px 15px 15px ;\n",
              "}\n",
              ".button{\n",
              "\tpadding: 10px 15px;\n",
              "\tbackground:#333;\n",
              "\tborder-radius: 4px;\n",
              "\tborder:solid 1px #555;\n",
              "\tcolor:white;\n",
              "\tfont-weight:bold;\n",
              "\tcursor:pointer;\n",
              "}\n",
              ".pill{\n",
              "\tpadding:2px 4px;\n",
              "\tborder-radius: 100px;\n",
              "\tbackground-color:#e65858;\n",
              "\tfont-size:12px;\n",
              "\tfont-weight:bold;\n",
              "\tmargin: 0 15px;\n",
              "\tcolor:white;\n",
              "}\n",
              "</style>\n",
              "<details class=\"choice-section\">\n",
              "\t<summary style=\"cursor:pointer\">\n",
              "\t\t<h3 style=\"display:inline-block;margin-top:15px\">⚙️ Client machine configuration<span class=\"pill\">Required</span></h3>\n",
              "\t</summary>\n",
              "\t<p>Don't worry, you only have to do this <b>once per client machine</b>.</p>\n",
              "\t<ol>\n",
              "\t\t<li>Download <a href=\"https://developers.cloudflare.com/argo-tunnel/getting-started/installation\">Cloudflared (Argo Tunnel)</a>, then copy the absolute path of the cloudflare binary</li>\n",
              "\t\t<li>Now, you have to append the following to your SSH config file (usually under ~/.ssh/config), and make sure you replace the placeholder with the path you copied in Step 1:</li>\n",
              "\t</ol>\n",
              "\t<code>Host *.trycloudflare.com\n",
              "\tHostName %h\n",
              "\tUser root\n",
              "\tPort 22\n",
              "\tProxyCommand &ltPUT_THE_ABSOLUTE_CLOUDFLARE_PATH_HERE&gt access ssh --hostname %h\n",
              "\t</code>\n",
              "</details>\n",
              "<div class=\"choices\">\n",
              "\t<div class=\"choice-section\">\n",
              "\t\t<h4>SSH Terminal</h4>\n",
              "\t\t<p>To connect using your terminal, type this command:</p>\n",
              "\t\t<code>ssh gun-incorporate-south-reservoir.trycloudflare.com</code>\n",
              "\t</div>\n",
              "\t<div class=\"choice-section\">\n",
              "\t\t<h4>VSCode Remote SSH</h4>\n",
              "\t\t<p>You can also connect with VSCode Remote SSH (Ctrl+Shift+P and type \"Connect to Host...\"). Then, paste the following hostname in the opened command palette:</p>\n",
              "\t\t<code>gun-incorporate-south-reservoir.trycloudflare.com</code>\n",
              "\t</div>\n",
              "</div>\n",
              "\n",
              "<script>\n",
              "// Copy any string\n",
              "function fallbackCopyTextToClipboard(text) {\n",
              "  var textArea = document.createElement(\"textarea\");\n",
              "  textArea.value = text;\n",
              "  \n",
              "  // Avoid scrolling to bottom\n",
              "  textArea.style.top = \"0\";\n",
              "  textArea.style.left = \"0\";\n",
              "  textArea.style.position = \"fixed\";\n",
              "\n",
              "  document.body.appendChild(textArea);\n",
              "  textArea.focus();\n",
              "  textArea.select();\n",
              "\n",
              "  try {\n",
              "    var successful = document.execCommand('copy');\n",
              "    var msg = successful ? 'successful' : 'unsuccessful';\n",
              "    console.log('Fallback: Copying text command was ' + msg);\n",
              "  } catch (err) {\n",
              "    console.error('Fallback: Oops, unable to copy', err);\n",
              "  }\n",
              "\n",
              "  document.body.removeChild(textArea);\n",
              "}\n",
              "\n",
              "// Show the copy button with every code tag\n",
              "document.querySelectorAll('code').forEach(function (codeBlock) {\n",
              "\tconst codeToCopy= codeBlock.innerText;\n",
              "\tvar pre = document.createElement('pre');\n",
              "\tpre.innerText = codeToCopy;\n",
              "    var button = document.createElement('button');\n",
              "    button.className = 'copy-code-button';\n",
              "    button.type = 'button';\n",
              "    button.innerText = 'Copy';\n",
              "\tbutton.onclick = function(){\n",
              "\t\tfallbackCopyTextToClipboard(codeToCopy);\n",
              "\t\tbutton.innerText = 'Copied'\n",
              "\t\tsetTimeout(()=>{\n",
              "\t\t\tbutton.innerText = 'Copy'\n",
              "\t\t},2000)\n",
              "\t}\n",
              "\tcodeBlock.children = pre;\n",
              "\tcodeBlock.prepend(button)\n",
              "});\n",
              "</script>\n"
            ]
          },
          "metadata": {}
        }
      ]
    }
  ]
}